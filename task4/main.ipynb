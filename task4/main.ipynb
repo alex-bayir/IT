{
  "cells": [
    {
      "cell_type": "code",
      "execution_count": 2,
      "metadata": {
        "id": "uOx6vCkibXKv"
      },
      "outputs": [],
      "source": [
        "import random\n",
        "import numpy as np\n",
        "import csv\n",
        "import pandas\n",
        "import matplotlib.pyplot as plt"
      ]
    },
    {
      "cell_type": "code",
      "execution_count": 4,
      "metadata": {
        "id": "-0x0KJvOlBxN"
      },
      "outputs": [],
      "source": [
        "def index(x11, x12, x13, x21, x22, x23, x31, x32, x33):\n",
        "  num = ((((((((x11*3)+x12)*3+x13)*3+x21)*3+x22)*3+x23)*3+x31)*3+x32)*3+x33\n",
        "  return num"
      ]
    },
    {
      "cell_type": "markdown",
      "metadata": {
        "id": "NmrLZWCIx1er"
      },
      "source": [
        "## Таблица вероятностей"
      ]
    },
    {
      "cell_type": "code",
      "execution_count": 5,
      "metadata": {
        "id": "GUgyF122DEka"
      },
      "outputs": [],
      "source": [
        "def probability(V):\n",
        "\n",
        "    for i1 in range(3):\n",
        "      for i2 in range(3):\n",
        "        for i3 in range(3):\n",
        "          for i4 in range(3):\n",
        "            for i5 in range(3):\n",
        "              for i6 in range(3):\n",
        "                for i7 in range(3):\n",
        "                  for i8 in range(3):\n",
        "                    for i9 in range(3):\n",
        "\n",
        "                      if (i1 == i2 == i3 == 2) or (i4 == i5 == i6 == 2) or (i7 == i8 == i9 == 2) or (i1 == i5 == i9 == 2):\n",
        "                        num = index(i1, i2, i3, i4, i5, i6, i7, i8, i9)\n",
        "                        V[num] = 1\n",
        "\n",
        "                      if (i3 == i5 == i7 == 2) or (i1 == i4 == i7 == 2) or (i2 == i5 == i8 == 2) or (i3 == i6 == i9 == 2):\n",
        "                        num = index(i1, i2, i3, i4, i5, i6, i7, i8, i9)\n",
        "                        V[num] = 1\n",
        "\n",
        "                      if (i1 == i2 == i3 == 1) or (i4 == i5 == i6 == 1) or (i7 == i8 == i9 == 1) or (i1 == i5 == i9 == 1):\n",
        "                        num = index(i1, i2, i3, i4, i5, i6, i7, i8, i9)\n",
        "                        V[num] = 0\n",
        "\n",
        "                      if (i3 == i5 == i7 == 1) or (i1 == i4 == i7 == 1) or (i2 == i5 == i8 == 1) or (i3 == i6 == i9 == 1):\n",
        "                        num = index(i1, i2, i3, i4, i5, i6, i7, i8, i9)\n",
        "                        V[num] = 0\n",
        "\n",
        "    return V"
      ]
    },
    {
      "cell_type": "code",
      "execution_count": 6,
      "metadata": {
        "id": "pjAGaMDI88lw"
      },
      "outputs": [],
      "source": [
        "V = [0.5] * 19683\n",
        "V = probability(V)\n",
        "\n",
        "df = pandas.DataFrame(V)\n",
        "df.to_csv('values.csv')"
      ]
    },
    {
      "cell_type": "markdown",
      "metadata": {
        "id": "lC0MX5k2x9OK"
      },
      "source": [
        "## Пустые ячейки"
      ]
    },
    {
      "cell_type": "code",
      "execution_count": 7,
      "metadata": {
        "id": "0_uaBnp_e_VJ"
      },
      "outputs": [],
      "source": [
        "def empty(condition): # индексы пустых ячеек\n",
        "  empty_indexes = []\n",
        "  for index, el in enumerate(condition):\n",
        "    if el == 0:\n",
        "      empty_indexes.append(index)\n",
        "\n",
        "  return empty_indexes"
      ]
    },
    {
      "cell_type": "markdown",
      "metadata": {
        "id": "Oevid1AnyCwP"
      },
      "source": [
        "## Агент с правилами"
      ]
    },
    {
      "cell_type": "code",
      "execution_count": 8,
      "metadata": {
        "id": "EfnEiG00ftF1"
      },
      "outputs": [],
      "source": [
        "def rules(condition, empty_indexes):\n",
        "  if ((condition[0] == 1 and condition[3] == 1) or (condition[2] == 1 and condition[4] == 1) or (condition[7] == 1 and condition[8] == 1)) and (6 in empty_indexes):\n",
        "    condition[6] = 1\n",
        "  elif ((condition[0] == 1 and condition[1] == 1) or (condition[4] == 1 and condition[6] == 1) or (condition[5] == 1 and condition[8] == 1)) and (2 in empty_indexes):\n",
        "    condition[2] = 1\n",
        "  elif ((condition[1] == 1 and condition[2] == 1) or (condition[3] == 1 and condition[6] == 1) or (condition[4] == 1 and condition[8] == 1)) and (0 in empty_indexes):\n",
        "    condition[0] = 1\n",
        "  elif ((condition[0] == 1 and condition[4] == 1) or (condition[2] == 1 and condition[5] == 1) or (condition[6] == 1 and condition[7] == 1)) and (8 in empty_indexes):\n",
        "    condition[8] = 1\n",
        "\n",
        "  elif ((condition[0] == 1 and condition[2] == 1) or (condition[4] == 1 and condition[7] == 1)) and (1 in empty_indexes):\n",
        "    condition[1] = 1\n",
        "  elif ((condition[0] == 1 and condition[6] == 1) or (condition[4] == 1 and condition[5] == 1)) and (3 in empty_indexes):\n",
        "    condition[3] = 1\n",
        "  elif ((condition[2] == 1 and condition[8] == 1) or (condition[3] == 1 and condition[4] == 1)) and (5 in empty_indexes):\n",
        "    condition[5] = 1\n",
        "  elif ((condition[1] == 1 and condition[4] == 1) or (condition[6] == 1 and condition[8] == 1)) and (7 in empty_indexes):\n",
        "    condition[7] = 1\n",
        "\n",
        "  elif ((condition[0] == 1 and condition[8] == 1) or (condition[2] == 1 and condition[6] == 1)) and (4 in empty_indexes):\n",
        "    condition[4] = 1\n",
        "  elif ((condition[1] == 1 and condition[7] == 1) or (condition[3] == 1 and condition[5] == 1)) and (4 in empty_indexes):\n",
        "    condition[4] = 1\n",
        "\n",
        "  elif empty_indexes:\n",
        "    index = random.choice(empty_indexes)\n",
        "    condition[index] = 1\n",
        "\n",
        "  return condition"
      ]
    },
    {
      "cell_type": "code",
      "execution_count": 9,
      "metadata": {
        "id": "fyuEqlVyZPPo"
      },
      "outputs": [],
      "source": [
        "def agent_rules(condition, combinations, V, steps_m): # агент с правилами\n",
        "  empty_indexes = empty(condition)\n",
        "  condition = rules(condition, empty_indexes)\n",
        "\n",
        "  if winner(combinations, condition):\n",
        "    sum = 0\n",
        "    values(sum, steps_m, V)\n",
        "   # end_game()\n",
        "  else:\n",
        "    condition, sum, steps_m = agent_learn(condition, combinations, V, steps_m)\n",
        "\n",
        "  return condition, sum, steps_m"
      ]
    },
    {
      "cell_type": "markdown",
      "metadata": {
        "id": "2z3UffKDyIEJ"
      },
      "source": [
        "## Обучающийся агент"
      ]
    },
    {
      "cell_type": "code",
      "execution_count": 10,
      "metadata": {
        "id": "hRipk9OFkfx2"
      },
      "outputs": [],
      "source": [
        "def game(condition, V, steps_m):\n",
        "  games = condition.copy()\n",
        "  variants = [None] * 9\n",
        "\n",
        "  for j in range(9):\n",
        "    if games[j] == 0:\n",
        "      games[j] = 2\n",
        "      variants[j] = index(games[0], games[1], games[2], games[3], games[4], games[5], games[6], games[7], games[8])\n",
        "      games[j] = 0\n",
        "    else:\n",
        "      variants[j] = -1\n",
        "\n",
        "  v_max = -1.0\n",
        "  v_num_max = 0\n",
        "  for i in range(9):\n",
        "    if (V[variants[i]] > v_max) and (variants[i] != -1):\n",
        "      v_num_max = i\n",
        "      v_max = V[variants[i]]\n",
        "\n",
        "  steps_m.append(variants[v_num_max])\n",
        "\n",
        "  return v_num_max, steps_m"
      ]
    },
    {
      "cell_type": "code",
      "execution_count": 11,
      "metadata": {
        "id": "L0XyoOWpbP6O"
      },
      "outputs": [],
      "source": [
        "def agent_learn(condition, combinations, V, steps_m): # обучающийся агент\n",
        "\n",
        "  index, steps_m = game(condition, V, steps_m)\n",
        "  condition[index] = 2\n",
        "\n",
        "  if winner(combinations, condition):\n",
        "    sum = 1\n",
        "    values(sum, steps_m, V)\n",
        "  #  end_game()\n",
        "  else:\n",
        "    condition, sum, steps_m = agent_rules(condition, combinations, V, steps_m)\n",
        "\n",
        "  return condition, sum, steps_m"
      ]
    },
    {
      "cell_type": "code",
      "execution_count": 12,
      "metadata": {
        "id": "skd_DnQCzW4o"
      },
      "outputs": [],
      "source": [
        "def values(res, steps_m, V):\n",
        "  A = 0.1\n",
        "  for i in range(0, len(steps_m)):\n",
        "    V[steps_m[i]] += A * (res - V[steps_m[i]])\n",
        "\n",
        "  df = pandas.DataFrame(V)\n",
        "  df.to_csv('values.csv')"
      ]
    },
    {
      "cell_type": "markdown",
      "metadata": {
        "id": "W6W1vjqbyMvL"
      },
      "source": [
        "## Подсчет победы"
      ]
    },
    {
      "cell_type": "code",
      "execution_count": 13,
      "metadata": {
        "id": "USkf5iHCnTpH"
      },
      "outputs": [],
      "source": [
        "def winner(combinations, condition):\n",
        "    global win\n",
        "    variants = []\n",
        "    y = [None if x==0 else x for x in condition]\n",
        "    for i in combinations:\n",
        "        variants.append([y[i[0]], y[i[1]], y[i[2]]])\n",
        "    if [1] * 3 in variants:\n",
        "        win = 'Выиграл агент с правилами!'\n",
        "    elif [2] * 3 in variants:\n",
        "        win = 'Выиграл обучающийся агент'\n",
        "    elif None not in y:\n",
        "        win = 'Ничья'\n",
        "    return win"
      ]
    },
    {
      "cell_type": "code",
      "execution_count": 14,
      "metadata": {
        "id": "bhKQ-TENqtLU"
      },
      "outputs": [],
      "source": [
        "def end_game():\n",
        "    print(f'Игра окончена {win}')"
      ]
    },
    {
      "cell_type": "markdown",
      "metadata": {
        "id": "EwlOUPxwzZRc"
      },
      "source": [
        "# Основная часть"
      ]
    },
    {
      "cell_type": "code",
      "execution_count": 15,
      "metadata": {
        "id": "J2Zzfe8lIkYA"
      },
      "outputs": [],
      "source": [
        "def file_write_read():\n",
        "    df = pandas.read_csv('values.csv')\n",
        "    V = df['0'].tolist()\n",
        "    return V"
      ]
    },
    {
      "cell_type": "code",
      "execution_count": 16,
      "metadata": {
        "id": "55pJQn3ZDd_7"
      },
      "outputs": [],
      "source": [
        "combinations = [(0, 1, 2), (3, 4, 5), (6, 7, 8), (0, 3, 6), (1, 4, 7), (2, 5, 8), (0, 4, 8), (2, 4, 6)]"
      ]
    },
    {
      "cell_type": "code",
      "execution_count": 17,
      "metadata": {
        "id": "QUeSekrlNrgd"
      },
      "outputs": [],
      "source": [
        "V = file_write_read()"
      ]
    },
    {
      "cell_type": "code",
      "execution_count": 18,
      "metadata": {
        "id": "XNHSxn2gM3Bg"
      },
      "outputs": [],
      "source": [
        "sum = []\n",
        "sums = 0"
      ]
    },
    {
      "cell_type": "code",
      "execution_count": 20,
      "metadata": {
        "colab": {
          "base_uri": "https://localhost:8080/"
        },
        "id": "A-9pq2GWHqaB",
        "outputId": "7e0c6886-3cff-4763-c0b4-a20695381369"
      },
      "outputs": [
        {
          "name": "stdout",
          "output_type": "stream",
          "text": [
            "4000"
          ]
        }
      ],
      "source": [
        "for i in range(1, 4001):\n",
        "  print(f'\\r{i}',end='')\n",
        "  if i%200 == 0:\n",
        "    sum.append(sums)\n",
        "    sums = 0\n",
        "    condition = [0] * 9\n",
        "    win = None\n",
        "    steps_m = []\n",
        "    result, s, st = agent_rules(condition, combinations, V, steps_m)\n",
        "    V = file_write_read()\n",
        "    sums += s\n",
        "  else:\n",
        "      condition = [0] * 9\n",
        "      win = None\n",
        "      steps_m = []\n",
        "      result, s, st = agent_rules(condition, combinations, V, steps_m)\n",
        "      V = file_write_read()\n",
        "      sums += s\n"
      ]
    },
    {
      "cell_type": "code",
      "execution_count": 23,
      "metadata": {
        "colab": {
          "base_uri": "https://localhost:8080/",
          "height": 571
        },
        "id": "iHyLgd9DPd6I",
        "outputId": "ade9acd4-55ee-48be-ae7b-d8d27fb0fa75"
      },
      "outputs": [
        {
          "data": {
            "image/png": "[encoded data removed]",
            "text/plain": [
              "<Figure size 1200x600 with 1 Axes>"
            ]
          },
          "metadata": {},
          "output_type": "display_data"
        }
      ],
      "source": [
        "fig = plt.figure(figsize = (12, 6))\n",
        "i = np.arange(200, 4001, 200)\n",
        "plt.plot(i, sum)\n",
        "plt.xlabel('Шаги обучения', size=14)\n",
        "plt.ylabel('Награда', size=14)\n",
        "plt.title('Кривая зависимости награды от кол-ва шагов обучения', size=14)\n",
        "plt.xlim(200, 4000)\n",
        "plt.xticks(np.arange(200, 4001, 200))\n",
        "plt.grid()\n",
        "plt.show()"
      ]
    }
  ],
  "metadata": {
    "colab": {
      "provenance": []
    },
    "kernelspec": {
      "display_name": "Python 3",
      "name": "python3"
    },
    "language_info": {
      "name": "python",
      "version": "3.12.0"
    }
  },
  "nbformat": 4,
  "nbformat_minor": 0
}
